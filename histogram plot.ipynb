{
 "cells": [
  {
   "cell_type": "markdown",
   "metadata": {},
   "source": [
    "# Histogram Plot"
   ]
  },
  {
   "cell_type": "code",
   "execution_count": 1,
   "metadata": {},
   "outputs": [],
   "source": [
    "import matplotlib.pyplot as plt\n",
    "import numpy as np"
   ]
  },
  {
   "cell_type": "code",
   "execution_count": 2,
   "metadata": {},
   "outputs": [],
   "source": [
    "import random"
   ]
  },
  {
   "cell_type": "code",
   "execution_count": 3,
   "metadata": {},
   "outputs": [
    {
     "name": "stdout",
     "output_type": "stream",
     "text": [
      "[13 15 10 44 49 41 21 21 21 12 24 43 34 32 40 33 38 22 43 14 16 11 28 17\n",
      " 26 37 44 43 42 26 49 12 36 43 39 13 15 38 23 36 28 43 15 27 10 48 22 23\n",
      " 48 31]\n"
     ]
    }
   ],
   "source": [
    "x=np.random.randint(10,50,(50))\n",
    "print(x)"
   ]
  },
  {
   "cell_type": "code",
   "execution_count": 18,
   "metadata": {},
   "outputs": [
    {
     "data": {
      "image/png": "[encoded data removed]",
      "text/plain": [
       "<Figure size 432x288 with 1 Axes>"
      ]
     },
     "metadata": {
      "needs_background": "light"
     },
     "output_type": "display_data"
    }
   ],
   "source": [
    "numbers=[13,15,10,44,49,41,21,21,21,12,24,43,34, 32, 40, 33, 38, 22, 43, 14, 16, 11, 28, 17\n",
    ", 26, 37, 44, 43, 42, 26, 49, 12 ,36 ,43 ,39, 13 ,15, 38 ,23, 36, 28, 43, 15,27 ,10 ,48 ,22, 23,\n",
    " 48 ,31]\n",
    "bins=[10,15,20,25,30,35,40,45,50]\n",
    "plt.hist(numbers,edgecolor=\"y\",bins=bins,align=\"mid\",rwidth=0.6)\n",
    "plt.title(\"Histogram Plot\")\n",
    "plt.xlabel(\"Scores\")\n",
    "plt.ylabel(\"No\")\n",
    "plt.show()"
   ]
  },
  {
   "cell_type": "code",
   "execution_count": 24,
   "metadata": {},
   "outputs": [
    {
     "data": {
      "image/png": "[encoded data removed]",
      "text/plain": [
       "<Figure size 432x288 with 1 Axes>"
      ]
     },
     "metadata": {
      "needs_background": "light"
     },
     "output_type": "display_data"
    }
   ],
   "source": [
    "numbers=[13,15,10,44,49,41,21,21,21,12,24,43,34, 32, 40, 33, 38, 22, 43, 14, 16, 11, 28, 17\n",
    ", 26, 37, 44, 43, 42, 26, 49, 12 ,36 ,43 ,39, 13 ,15, 38 ,23, 36, 28, 43, 15,27 ,10 ,48 ,22, 23,\n",
    " 48 ,31]\n",
    "bins=[10,15,20,25,30,35,40,45,50]\n",
    "plt.hist(numbers,edgecolor=\"y\",bins=bins,align=\"mid\",rwidth=0.6,log=True)\n",
    "plt.axvline(35,color=\"g\")\n",
    "plt.title(\"Histogram Plot\")\n",
    "plt.xlabel(\"Scores\")\n",
    "plt.ylabel(\"No\")\n",
    "plt.show()"
   ]
  },
  {
   "cell_type": "code",
   "execution_count": 15,
   "metadata": {},
   "outputs": [
    {
     "data": {
      "image/png": "[encoded data removed]",
      "text/plain": [
       "<Figure size 432x288 with 1 Axes>"
      ]
     },
     "metadata": {
      "needs_background": "light"
     },
     "output_type": "display_data"
    }
   ],
   "source": [
    "# Step-Type Histogram\n",
    "numbers=[13,15,10,44,49,41,21,21,21,12,24,43,34, 32, 40, 33, 38, 22, 43, 14, 16, 11, 28, 17\n",
    ", 26, 37, 44, 43, 42, 26, 49, 12 ,36 ,43 ,39, 13 ,15, 38 ,23, 36, 28, 43, 15,27 ,10 ,48 ,22, 23,\n",
    " 48 ,31]\n",
    "bins=[10,15,20,25,30,35,40,45,50]\n",
    "plt.hist(numbers,edgecolor=\"y\",bins=bins,align=\"mid\",histtype=\"step\")\n",
    "plt.title(\"Histogram Plot\")\n",
    "plt.xlabel(\"Scores\")\n",
    "plt.ylabel(\"No\")\n",
    "plt.show()"
   ]
  },
  {
   "cell_type": "code",
   "execution_count": 26,
   "metadata": {},
   "outputs": [
    {
     "data": {
      "image/png": "[encoded data removed]",
      "text/plain": [
       "<Figure size 432x288 with 1 Axes>"
      ]
     },
     "metadata": {
      "needs_background": "light"
     },
     "output_type": "display_data"
    }
   ],
   "source": [
    "# Horizonal Histogram\n",
    "numbers=[13,15,10,44,49,41,21,21,21,12,24,43,34, 32, 40, 33, 38, 22, 43, 14, 16, 11, 28, 17\n",
    ", 26, 37, 44, 43, 42, 26, 49, 12 ,36 ,43 ,39, 13 ,15, 38 ,23, 36, 28, 43, 15,27 ,10 ,48 ,22, 23,\n",
    " 48 ,31]\n",
    "bins=[10,15,20,25,30,35,40,45,50]\n",
    "plt.hist(numbers,edgecolor=\"y\",bins=bins,align=\"mid\",histtype=\"step\",orientation=\"horizontal\")\n",
    "plt.title(\"Histogram Plot\")\n",
    "plt.xlabel(\"Scores\")\n",
    "plt.ylabel(\"No\")\n",
    "plt.show()"
   ]
  },
  {
   "cell_type": "code",
   "execution_count": null,
   "metadata": {},
   "outputs": [],
   "source": []
  }
 ],
 "metadata": {
  "kernelspec": {
   "display_name": "Python 3",
   "language": "python",
   "name": "python3"
  },
  "language_info": {
   "codemirror_mode": {
    "name": "ipython",
    "version": 3
   },
   "file_extension": ".py",
   "mimetype": "text/x-python",
   "name": "python",
   "nbconvert_exporter": "python",
   "pygments_lexer": "ipython3",
   "version": "3.8.5"
  }
 },
 "nbformat": 4,
 "nbformat_minor": 4
}
